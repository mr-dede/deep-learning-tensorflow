{
  "nbformat": 4,
  "nbformat_minor": 0,
  "metadata": {
    "colab": {
      "provenance": []
    },
    "kernelspec": {
      "name": "python3",
      "display_name": "Python 3"
    },
    "language_info": {
      "name": "python"
    }
  },
  "cells": [
    {
      "cell_type": "markdown",
      "source": [
        "- Code adapted from documentation: https://www.tensorflow.org/beta/tutorials/generative/dcgan"
      ],
      "metadata": {
        "id": "2t0eISQoWCKt"
      }
    },
    {
      "cell_type": "markdown",
      "source": [
        "# Step 1: Importing the libraries"
      ],
      "metadata": {
        "id": "5jtSed71WDOq"
      }
    },
    {
      "cell_type": "code",
      "source": [
        "import matplotlib.pyplot as plt\n",
        "import numpy as np\n",
        "import os\n",
        "import PIL\n",
        "from tensorflow.keras import layers\n",
        "import time\n",
        "from IPython import display\n",
        "import tensorflow as tf"
      ],
      "metadata": {
        "id": "cCcWSGtTWHWa"
      },
      "execution_count": 1,
      "outputs": []
    },
    {
      "cell_type": "markdown",
      "source": [
        "# Step 2: Importing and processing the database"
      ],
      "metadata": {
        "id": "Hjg2gcbVWJ8h"
      }
    },
    {
      "cell_type": "code",
      "source": [
        "(train_images, train_labels), (_,_) = tf.keras.datasets.fashion_mnist.load_data()"
      ],
      "metadata": {
        "colab": {
          "base_uri": "https://localhost:8080/"
        },
        "id": "BeN9_1O7dgk5",
        "outputId": "c7bcf903-d81a-437e-d79d-94a35f25b6e9"
      },
      "execution_count": 2,
      "outputs": [
        {
          "output_type": "stream",
          "name": "stdout",
          "text": [
            "Downloading data from https://storage.googleapis.com/tensorflow/tf-keras-datasets/train-labels-idx1-ubyte.gz\n",
            "29515/29515 [==============================] - 0s 0us/step\n",
            "Downloading data from https://storage.googleapis.com/tensorflow/tf-keras-datasets/train-images-idx3-ubyte.gz\n",
            "26421880/26421880 [==============================] - 0s 0us/step\n",
            "Downloading data from https://storage.googleapis.com/tensorflow/tf-keras-datasets/t10k-labels-idx1-ubyte.gz\n",
            "5148/5148 [==============================] - 0s 0us/step\n",
            "Downloading data from https://storage.googleapis.com/tensorflow/tf-keras-datasets/t10k-images-idx3-ubyte.gz\n",
            "4422102/4422102 [==============================] - 0s 0us/step\n"
          ]
        }
      ]
    },
    {
      "cell_type": "code",
      "source": [
        "train_images.shape"
      ],
      "metadata": {
        "colab": {
          "base_uri": "https://localhost:8080/"
        },
        "id": "ruaIEPXYdte6",
        "outputId": "76ea9da5-4420-4ab8-9418-b8db49d3072c"
      },
      "execution_count": 3,
      "outputs": [
        {
          "output_type": "execute_result",
          "data": {
            "text/plain": [
              "(60000, 28, 28)"
            ]
          },
          "metadata": {},
          "execution_count": 3
        }
      ]
    },
    {
      "cell_type": "code",
      "source": [
        "train_labels.shape"
      ],
      "metadata": {
        "colab": {
          "base_uri": "https://localhost:8080/"
        },
        "id": "u-e25MU8dw6N",
        "outputId": "e3016d1a-5ea7-4810-e23b-525b39631aba"
      },
      "execution_count": 5,
      "outputs": [
        {
          "output_type": "execute_result",
          "data": {
            "text/plain": [
              "(60000,)"
            ]
          },
          "metadata": {},
          "execution_count": 5
        }
      ]
    },
    {
      "cell_type": "code",
      "source": [
        "train_images = train_images.reshape(train_images.shape[0], 28, 28, 1).astype('float32')"
      ],
      "metadata": {
        "id": "Y_aHwR5Kd5nc"
      },
      "execution_count": 6,
      "outputs": []
    },
    {
      "cell_type": "code",
      "source": [
        "train_images.shape"
      ],
      "metadata": {
        "colab": {
          "base_uri": "https://localhost:8080/"
        },
        "id": "4ovLzzbJeLWY",
        "outputId": "5af51c63-6042-46d2-ac00-08b517992d28"
      },
      "execution_count": 7,
      "outputs": [
        {
          "output_type": "execute_result",
          "data": {
            "text/plain": [
              "(60000, 28, 28, 1)"
            ]
          },
          "metadata": {},
          "execution_count": 7
        }
      ]
    },
    {
      "cell_type": "code",
      "source": [
        "train_images = (train_images - 127.5)/127.5"
      ],
      "metadata": {
        "id": "0qXxmc6qePGt"
      },
      "execution_count": 8,
      "outputs": []
    },
    {
      "cell_type": "code",
      "source": [
        "buffer_size = 60000\n",
        "batch_size = 256"
      ],
      "metadata": {
        "id": "j2N7K_J_eVyd"
      },
      "execution_count": 9,
      "outputs": []
    },
    {
      "cell_type": "code",
      "source": [
        "train_dataset = tf.data.Dataset.from_tensor_slices(train_images).shuffle(buffer_size).batch(batch_size)"
      ],
      "metadata": {
        "id": "a353_alBes2s"
      },
      "execution_count": 44,
      "outputs": []
    },
    {
      "cell_type": "code",
      "source": [
        "train_dataset"
      ],
      "metadata": {
        "colab": {
          "base_uri": "https://localhost:8080/"
        },
        "id": "VjNK4ay5e8HT",
        "outputId": "f74fc91a-1193-4e24-886c-91cc10d2ac5d"
      },
      "execution_count": 45,
      "outputs": [
        {
          "output_type": "execute_result",
          "data": {
            "text/plain": [
              "<_BatchDataset element_spec=TensorSpec(shape=(None, 28, 28, 1), dtype=tf.float32, name=None)>"
            ]
          },
          "metadata": {},
          "execution_count": 45
        }
      ]
    },
    {
      "cell_type": "markdown",
      "source": [
        "# Step 3: Data Visualization"
      ],
      "metadata": {
        "id": "gAXqZj5OWQHo"
      }
    },
    {
      "cell_type": "code",
      "source": [
        "plt.imshow(train_images[110].reshape((28,28)), cmap = 'gray');"
      ],
      "metadata": {
        "colab": {
          "base_uri": "https://localhost:8080/",
          "height": 430
        },
        "id": "M3Ttk01vfLoU",
        "outputId": "dd937f56-c1a4-41a3-df83-df0577852a42"
      },
      "execution_count": 14,
      "outputs": [
        {
          "output_type": "display_data",
          "data": {
            "text/plain": [
              "<Figure size 640x480 with 1 Axes>"
            ],
            "image/png": "[encoded data removed]"
          },
          "metadata": {}
        }
      ]
    },
    {
      "cell_type": "markdown",
      "source": [
        "# Step 4: Generator Construction"
      ],
      "metadata": {
        "id": "dRtLyQfOWUTX"
      }
    },
    {
      "cell_type": "code",
      "source": [
        "def make_generator_model():\n",
        "  model = tf.keras.Sequential()\n",
        "  model.add(layers.Dense(7*7*256, use_bias = False, input_shape = (100,))) # 12544\n",
        "  model.add(layers.BatchNormalization())\n",
        "  model.add(layers.LeakyReLU())\n",
        "\n",
        "  model.add(layers.Reshape((7,7,256)))\n",
        "\n",
        "  #7x7x128\n",
        "\n",
        "  model.add(layers.Conv2DTranspose(128, (5,5), strides = (1,1), padding = 'same', use_bias = False))\n",
        "  model.add(layers.BatchNormalization())\n",
        "  model.add(layers.LeakyReLU())\n",
        "\n",
        "  #14x14x64\n",
        "  model.add(layers.Conv2DTranspose(64, (5,5), strides = (2,2), padding = 'same', use_bias = False))\n",
        "  model.add(layers.BatchNormalization())\n",
        "  model.add(layers.LeakyReLU())\n",
        "\n",
        "  #28x28x1\n",
        "  model.add(layers.Conv2DTranspose(1, (5,5), strides = (2,2), padding = 'same', use_bias = False, activation = 'tanh'))\n",
        "\n",
        "  model.summary()\n",
        "\n",
        "  return model\n",
        "\n",
        "\n"
      ],
      "metadata": {
        "id": "wUXL-iVtfq3j"
      },
      "execution_count": 20,
      "outputs": []
    },
    {
      "cell_type": "code",
      "source": [
        "noise = tf.random.normal([1,100])"
      ],
      "metadata": {
        "id": "ZR-ZszX1obkV"
      },
      "execution_count": 16,
      "outputs": []
    },
    {
      "cell_type": "code",
      "source": [
        "noise"
      ],
      "metadata": {
        "colab": {
          "base_uri": "https://localhost:8080/"
        },
        "id": "o3ZH-FwZojDc",
        "outputId": "2c1abf13-7102-47b7-b059-13be06ae49b1"
      },
      "execution_count": 21,
      "outputs": [
        {
          "output_type": "execute_result",
          "data": {
            "text/plain": [
              "<tf.Tensor: shape=(1, 100), dtype=float32, numpy=\n",
              "array([[-0.74972934, -1.0306791 , -0.9943087 ,  0.14282085,  0.8443118 ,\n",
              "         0.49196684, -0.9583029 ,  0.5447005 ,  0.8111471 ,  1.70074   ,\n",
              "         0.53652906,  1.271802  , -0.05639861, -1.0077275 , -0.16975054,\n",
              "         0.62157834,  0.6614665 ,  0.8917265 ,  1.0447131 , -1.5617379 ,\n",
              "        -0.8234191 ,  2.0858078 , -1.0113547 , -0.3411763 ,  1.3189596 ,\n",
              "         0.8430796 ,  0.860043  ,  0.84921056, -0.618764  , -1.6697458 ,\n",
              "         0.69728446,  1.5351593 ,  0.28317362, -1.6807089 ,  1.2931501 ,\n",
              "         0.43213886,  1.115874  ,  0.6397128 ,  0.01632693,  1.2411959 ,\n",
              "        -0.5716564 , -0.9412275 , -0.2288098 , -0.57569605, -0.79999745,\n",
              "        -1.4178157 , -0.02088767,  0.9702964 ,  2.4872088 , -0.40988138,\n",
              "        -0.56698257,  0.23449162, -1.559139  , -1.0566585 ,  0.8905837 ,\n",
              "        -0.6231234 , -3.3585465 ,  0.26192266,  1.5293279 , -0.1645071 ,\n",
              "         0.39065152,  0.87494826, -1.5646634 ,  0.89675534, -0.56237924,\n",
              "         2.040357  , -0.9945641 ,  0.02041676,  1.0860682 ,  1.1717731 ,\n",
              "        -0.7935991 ,  0.3794339 ,  2.1465642 ,  0.03806068,  0.8996296 ,\n",
              "         0.05025766,  0.37912476,  0.76916116, -2.3365045 ,  1.6483549 ,\n",
              "        -1.2476364 ,  0.9114219 ,  0.46122316,  0.27488798,  1.1902851 ,\n",
              "         1.0586591 , -1.679241  , -0.03156105,  0.47653395,  0.06683473,\n",
              "         1.8412122 ,  1.0819569 ,  0.1099107 ,  2.3635538 , -0.767693  ,\n",
              "        -0.38271853, -1.0366483 , -0.03393429,  0.95140404,  1.4844261 ]],\n",
              "      dtype=float32)>"
            ]
          },
          "metadata": {},
          "execution_count": 21
        }
      ]
    },
    {
      "cell_type": "code",
      "source": [
        "generator = make_generator_model()"
      ],
      "metadata": {
        "colab": {
          "base_uri": "https://localhost:8080/"
        },
        "id": "qRMLZM0PotZg",
        "outputId": "1935d899-18a4-42a1-b26c-d18bdb182726"
      },
      "execution_count": 22,
      "outputs": [
        {
          "output_type": "stream",
          "name": "stdout",
          "text": [
            "Model: \"sequential\"\n",
            "_________________________________________________________________\n",
            " Layer (type)                Output Shape              Param #   \n",
            "=================================================================\n",
            " dense (Dense)               (None, 12544)             1254400   \n",
            "                                                                 \n",
            " batch_normalization (Batch  (None, 12544)             50176     \n",
            " Normalization)                                                  \n",
            "                                                                 \n",
            " leaky_re_lu (LeakyReLU)     (None, 12544)             0         \n",
            "                                                                 \n",
            " reshape (Reshape)           (None, 7, 7, 256)         0         \n",
            "                                                                 \n",
            " conv2d_transpose (Conv2DTr  (None, 7, 7, 128)         819200    \n",
            " anspose)                                                        \n",
            "                                                                 \n",
            " batch_normalization_1 (Bat  (None, 7, 7, 128)         512       \n",
            " chNormalization)                                                \n",
            "                                                                 \n",
            " leaky_re_lu_1 (LeakyReLU)   (None, 7, 7, 128)         0         \n",
            "                                                                 \n",
            " conv2d_transpose_1 (Conv2D  (None, 14, 14, 64)        204800    \n",
            " Transpose)                                                      \n",
            "                                                                 \n",
            " batch_normalization_2 (Bat  (None, 14, 14, 64)        256       \n",
            " chNormalization)                                                \n",
            "                                                                 \n",
            " leaky_re_lu_2 (LeakyReLU)   (None, 14, 14, 64)        0         \n",
            "                                                                 \n",
            " conv2d_transpose_2 (Conv2D  (None, 28, 28, 1)         1600      \n",
            " Transpose)                                                      \n",
            "                                                                 \n",
            "=================================================================\n",
            "Total params: 2330944 (8.89 MB)\n",
            "Trainable params: 2305472 (8.79 MB)\n",
            "Non-trainable params: 25472 (99.50 KB)\n",
            "_________________________________________________________________\n"
          ]
        }
      ]
    },
    {
      "cell_type": "code",
      "source": [
        "generated_image = generator(noise, training = False)"
      ],
      "metadata": {
        "id": "pOTNwJ3DpHnl"
      },
      "execution_count": 23,
      "outputs": []
    },
    {
      "cell_type": "code",
      "source": [
        "generated_image.shape"
      ],
      "metadata": {
        "colab": {
          "base_uri": "https://localhost:8080/"
        },
        "id": "-2bHo_0Spdv8",
        "outputId": "355e45db-60e5-494a-c8c5-355274c640c2"
      },
      "execution_count": 25,
      "outputs": [
        {
          "output_type": "execute_result",
          "data": {
            "text/plain": [
              "TensorShape([1, 28, 28, 1])"
            ]
          },
          "metadata": {},
          "execution_count": 25
        }
      ]
    },
    {
      "cell_type": "code",
      "source": [
        "plt.imshow(generated_image[0,:,:,0], cmap = 'gray')"
      ],
      "metadata": {
        "colab": {
          "base_uri": "https://localhost:8080/",
          "height": 448
        },
        "id": "UET0oswJpRkf",
        "outputId": "784024dd-b482-4224-8aa1-026ec5e68804"
      },
      "execution_count": 27,
      "outputs": [
        {
          "output_type": "execute_result",
          "data": {
            "text/plain": [
              "<matplotlib.image.AxesImage at 0x7aa32926d270>"
            ]
          },
          "metadata": {},
          "execution_count": 27
        },
        {
          "output_type": "display_data",
          "data": {
            "text/plain": [
              "<Figure size 640x480 with 1 Axes>"
            ],
            "image/png": "[encoded data removed]"
          },
          "metadata": {}
        }
      ]
    },
    {
      "cell_type": "markdown",
      "source": [
        "# Step 5: Construction of the discriminator"
      ],
      "metadata": {
        "id": "unoVOj7pWZxk"
      }
    },
    {
      "cell_type": "code",
      "source": [
        "def make_discriminator_model():\n",
        "  model = tf.keras.Sequential()\n",
        "\n",
        "  #14x14x64\n",
        "  model.add(layers.Conv2D(64, (5,5), strides = (2,2), padding = 'same', input_shape = [28,28,1]))\n",
        "  model.add(layers.LeakyReLU())\n",
        "  model.add(layers.Dropout(0.3))\n",
        "\n",
        "  #7x7x128\n",
        "  model.add(layers.Conv2D(128, (5,5), strides = (5,5), padding = 'same'))\n",
        "  model.add(layers.LeakyReLU())\n",
        "  model.add(layers.Dropout(0.3))\n",
        "\n",
        "  #7x7x128 = 6272\n",
        "  model.add(layers.Flatten())\n",
        "  model.add(layers.Dense(1))\n",
        "\n",
        "  model.summary()\n",
        "\n",
        "  return model"
      ],
      "metadata": {
        "id": "iD9yPZSfuerZ"
      },
      "execution_count": 28,
      "outputs": []
    },
    {
      "cell_type": "code",
      "source": [
        "discriminator = make_discriminator_model()"
      ],
      "metadata": {
        "colab": {
          "base_uri": "https://localhost:8080/"
        },
        "id": "7gqJjQFNxGb0",
        "outputId": "5fe24825-454b-4ec5-f034-6c3e39f49c61"
      },
      "execution_count": 29,
      "outputs": [
        {
          "output_type": "stream",
          "name": "stdout",
          "text": [
            "Model: \"sequential_1\"\n",
            "_________________________________________________________________\n",
            " Layer (type)                Output Shape              Param #   \n",
            "=================================================================\n",
            " conv2d (Conv2D)             (None, 14, 14, 64)        1664      \n",
            "                                                                 \n",
            " leaky_re_lu_3 (LeakyReLU)   (None, 14, 14, 64)        0         \n",
            "                                                                 \n",
            " dropout (Dropout)           (None, 14, 14, 64)        0         \n",
            "                                                                 \n",
            " conv2d_1 (Conv2D)           (None, 3, 3, 128)         204928    \n",
            "                                                                 \n",
            " leaky_re_lu_4 (LeakyReLU)   (None, 3, 3, 128)         0         \n",
            "                                                                 \n",
            " dropout_1 (Dropout)         (None, 3, 3, 128)         0         \n",
            "                                                                 \n",
            " flatten (Flatten)           (None, 1152)              0         \n",
            "                                                                 \n",
            " dense_1 (Dense)             (None, 1)                 1153      \n",
            "                                                                 \n",
            "=================================================================\n",
            "Total params: 207745 (811.50 KB)\n",
            "Trainable params: 207745 (811.50 KB)\n",
            "Non-trainable params: 0 (0.00 Byte)\n",
            "_________________________________________________________________\n"
          ]
        }
      ]
    },
    {
      "cell_type": "code",
      "source": [
        "decision = discriminator(generated_image, training = False)\n",
        "decision"
      ],
      "metadata": {
        "colab": {
          "base_uri": "https://localhost:8080/"
        },
        "id": "ucYBZ8cfxR4d",
        "outputId": "2bd2520a-68ee-4a93-b211-4bf124a04df3"
      },
      "execution_count": 30,
      "outputs": [
        {
          "output_type": "execute_result",
          "data": {
            "text/plain": [
              "<tf.Tensor: shape=(1, 1), dtype=float32, numpy=array([[-0.0002215]], dtype=float32)>"
            ]
          },
          "metadata": {},
          "execution_count": 30
        }
      ]
    },
    {
      "cell_type": "markdown",
      "source": [
        "# Step 6: Loss function for both networks"
      ],
      "metadata": {
        "id": "wwVfpaolWdOR"
      }
    },
    {
      "cell_type": "code",
      "source": [
        "cross_entropy = tf.keras.losses.BinaryCrossentropy(from_logits = True)"
      ],
      "metadata": {
        "id": "d62XHs0kxtPy"
      },
      "execution_count": 33,
      "outputs": []
    },
    {
      "cell_type": "code",
      "source": [
        "def discriminator_loss(real_output, fake_output):\n",
        "  real_loss = cross_entropy(tf.ones_like(real_output), real_output)\n",
        "  fake_loss = cross_entropy(tf.zeros_like(fake_output), fake_output)\n",
        "  total_loss = real_loss + fake_loss\n",
        "\n",
        "  return total_loss\n",
        "\n",
        "def generator_loss(fake_output):\n",
        "  return cross_entropy(tf.ones_like(fake_output), fake_output)\n"
      ],
      "metadata": {
        "id": "iYQ6kAYIyQS5"
      },
      "execution_count": 55,
      "outputs": []
    },
    {
      "cell_type": "code",
      "source": [
        "generator_optimizer = tf.keras.optimizers.Adam(learning_rate = 1e-4)\n",
        "\n",
        "discriminator_optimizer = tf.keras.optimizers.Adam(learning_rate = 1e-4)"
      ],
      "metadata": {
        "id": "yZ9R_wRS0gkP"
      },
      "execution_count": 35,
      "outputs": []
    },
    {
      "cell_type": "code",
      "source": [
        "checkpoint_dir = './training_checkpoints'\n",
        "checkpoint_prefix = os.path.join(checkpoint_dir, 'ckpt')\n",
        "checkpoint = tf.train.Checkpoint(generator_optimizer = generator_optimizer,\n",
        "                                 discriminator_optimizer = discriminator_optimizer,\n",
        "                                 generator = generator,\n",
        "                                 discriminator = discriminator)"
      ],
      "metadata": {
        "id": "MHkaQ8qE0jQc"
      },
      "execution_count": 36,
      "outputs": []
    },
    {
      "cell_type": "markdown",
      "source": [
        "#Step 7: Model Training"
      ],
      "metadata": {
        "id": "DCGtkxK1WgNX"
      }
    },
    {
      "cell_type": "code",
      "source": [
        "epochs = 100\n",
        "noise_dim = 100\n",
        "num_examples_to_generate = 16"
      ],
      "metadata": {
        "id": "2GmU13pD1gN2"
      },
      "execution_count": 38,
      "outputs": []
    },
    {
      "cell_type": "code",
      "source": [
        "seed = tf.random.normal([num_examples_to_generate, noise_dim])\n",
        "seed.shape"
      ],
      "metadata": {
        "colab": {
          "base_uri": "https://localhost:8080/"
        },
        "id": "ikyf82i51vfF",
        "outputId": "4d456803-2123-46eb-b046-db427e8afe66"
      },
      "execution_count": 39,
      "outputs": [
        {
          "output_type": "execute_result",
          "data": {
            "text/plain": [
              "TensorShape([16, 100])"
            ]
          },
          "metadata": {},
          "execution_count": 39
        }
      ]
    },
    {
      "cell_type": "code",
      "source": [
        "@tf.function\n",
        "def train_steps(images):\n",
        "  noise = tf.random.normal([batch_size, noise_dim])\n",
        "  with tf.GradientTape() as gen_tape, tf.GradientTape() as disc_tape:\n",
        "    # Chamar o gerador e passar os números aleatórios\n",
        "    generated_images = generator(noise, training = True)\n",
        "    # Passar para o discriminador as imagens reais e falsas para fazer a classificação\n",
        "\n",
        "    real_output = discriminator(images, training = True)\n",
        "    fake_output = discriminator(generated_images, training = True)\n",
        "\n",
        "    # Calcular a loss para o gerador e discriminador\n",
        "\n",
        "    gen_loss = generator_loss(fake_output)\n",
        "    disc_loss = discriminator_loss(real_output, fake_output)\n",
        "\n",
        "  # Calcular o gradiente das losses para atualizar os pesos\n",
        "  gradients_of_generator = gen_tape.gradient(gen_loss, generator.trainable_variables)\n",
        "  gradients_of_discriminator = disc_tape.gradient(disc_loss, discriminator.trainable_variables)\n",
        "\n",
        "  # Aplicar os otimizadores e atualizar os pesos\n",
        "  generator_optimizer.apply_gradients(zip(gradients_of_generator, generator.trainable_variables))\n",
        "  discriminator_optimizer.apply_gradients(zip(gradients_of_discriminator, discriminator.trainable_variables))\n"
      ],
      "metadata": {
        "id": "6j7WFYqI14Ya"
      },
      "execution_count": 57,
      "outputs": []
    },
    {
      "cell_type": "code",
      "source": [
        "def train(dataset, epochs):\n",
        "  for epoch in range(epochs):\n",
        "    start = time.time()\n",
        "\n",
        "    for image_batch in  dataset:\n",
        "      train_steps(image_batch)\n",
        "\n",
        "    display.clear_output(wait = True)\n",
        "    generate_and_save_images(generator, epoch + 1, seed )\n",
        "\n",
        "    if (epoch + 1) % 15 == 0:\n",
        "      checkpoint.save(file_prefix = checkpoint_prefix)\n",
        "\n",
        "    print('Time for epoch {} is {} sec'.format(epoch + 1, time.time() - start))\n",
        "\n",
        "    display.clear_output(wait = True)\n",
        "    generate_and_save_images(generator, epoch + 1, seed )"
      ],
      "metadata": {
        "id": "8tXONbHr7qks"
      },
      "execution_count": 59,
      "outputs": []
    },
    {
      "cell_type": "code",
      "source": [
        "def generate_and_save_images(model, epoch, test_input):\n",
        "  predictions = model(test_input, training = False)\n",
        "\n",
        "  fig = plt.figure(figsize = (4,4))\n",
        "\n",
        "  for i in range(predictions.shape[0]):\n",
        "    plt.subplot(4,4, i + 1)\n",
        "    plt.imshow(predictions[i, :, :, 0] * 127.5 +127.5, cmap = 'gray')\n",
        "    plt.axis('off')\n",
        "  plt.savefig('image_at_epoch_`{:04d}.png'.format(epoch))\n",
        "  plt.show()"
      ],
      "metadata": {
        "id": "icLbc5809J2_"
      },
      "execution_count": 48,
      "outputs": []
    },
    {
      "cell_type": "code",
      "source": [
        "train(train_dataset, epochs)"
      ],
      "metadata": {
        "colab": {
          "base_uri": "https://localhost:8080/",
          "height": 345
        },
        "id": "HEoQxfQz-NCY",
        "outputId": "25fa85d2-f836-4bac-95a6-b499e091e391"
      },
      "execution_count": null,
      "outputs": [
        {
          "output_type": "display_data",
          "data": {
            "text/plain": [
              "<Figure size 400x400 with 16 Axes>"
            ],
            "image/png": "[encoded data removed]"
          },
          "metadata": {}
        }
      ]
    }
  ]
}